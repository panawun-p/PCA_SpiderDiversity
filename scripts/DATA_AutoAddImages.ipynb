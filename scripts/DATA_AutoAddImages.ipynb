{
  "nbformat": 4,
  "nbformat_minor": 0,
  "metadata": {
    "colab": {
      "provenance": []
    },
    "kernelspec": {
      "name": "python3",
      "display_name": "Python 3"
    },
    "language_info": {
      "name": "python"
    }
  },
  "cells": [
    {
      "cell_type": "markdown",
      "source": [
        "# DATA_AutoAddImages.ipynb\n",
        "Created by: `Panawun P.` <br>\n",
        "Created on: `2025-09`<br>\n",
        "Last editted: `2025-10-22`<br>\n",
        "<br>\n",
        "Manage Canopy Cover Images (Spherical Densiometer) and add to PCA Data spreadsheet, add transect photos to datasheet\n",
        "- Currently need photos to be renamed first for the code to work\n",
        "\n",
        "---"
      ],
      "metadata": {
        "id": "K5qCTd44LXnd"
      }
    },
    {
      "cell_type": "markdown",
      "source": [
        "## Settings and Init\n"
      ],
      "metadata": {
        "id": "njXNWw9PLv9b"
      }
    },
    {
      "cell_type": "code",
      "execution_count": null,
      "metadata": {
        "id": "m17UpiMcLMIQ"
      },
      "outputs": [],
      "source": [
        "RAW_DATA_SHEET_ID = '[GOOGLE DRIVE FILE ID]'\n",
        "\n",
        "COLLECTION_SHEET_NAME = 'CollectionData'\n",
        "CANOPY_SHEET_NAME = 'CanopyData'\n",
        "\n",
        "CC_IMG_FOLDER_ID = '[GOOGLE DRIVE FOLDER ID]'\n",
        "TRANSECT_IMG_FOLDER_ID = '[GOOGLE DRIVE FOLDER ID]'\n",
        "COUNTED_CC_IMG_FOLDER_ID = '[GOOGLE DRIVE FOLDER ID]'\n"
      ]
    },
    {
      "cell_type": "code",
      "source": [
        "# OAuth for gspread\n",
        "from google.colab import auth\n",
        "auth.authenticate_user()\n",
        "from google.auth import default\n",
        "creds, _ = default()\n",
        "\n",
        "import requests\n",
        "import gspread\n",
        "\n",
        "from googleapiclient.discovery import build\n",
        "drive_service = build('drive', 'v3', credentials=creds)\n",
        "# drive_scope = 'https://www.googleapis.com/auth/drive'\n",
        "\n",
        "# gc = gspread.api_key(SHEET_API_KEY) # Access through API key\n",
        "gc = gspread.authorize(creds) # Authorize with OAuth"
      ],
      "metadata": {
        "id": "XKL9b6_hN_jF"
      },
      "execution_count": null,
      "outputs": []
    },
    {
      "cell_type": "markdown",
      "source": [
        "## Functions"
      ],
      "metadata": {
        "id": "tmKP1imqyySg"
      }
    },
    {
      "cell_type": "code",
      "source": [
        "def get_img_list(folder_id):\n",
        "    query = f\"'{folder_id}' in parents and trashed =false\"\n",
        "    file_list = drive_service.files().list(q=query,\n",
        "                                        fields='nextPageToken, files(id, name, mimeType)').execute()\n",
        "    img_list = file_list.get('files', [])\n",
        "    img_list[0]['mimeType']\n",
        "\n",
        "    img_list = [file_info for file_info in img_list if 'image/' in file_info['mimeType']]\n",
        "\n",
        "    return img_list"
      ],
      "metadata": {
        "id": "nOPTfkL2r2Js"
      },
      "execution_count": null,
      "outputs": []
    },
    {
      "cell_type": "code",
      "source": [
        "# keyword = ['start', 'end', 'trail', 'away']\n",
        "def add_img_to_drive(keyword, img_list, row_i, row_info, worksheet):\n",
        "    # Convert number to letter\n",
        "    int_to_letter = lambda x:\"\" if x==0 else int_to_letter((x-1)//26)+chr((x-1)%26+ord(\"A\"))\n",
        "\n",
        "    if keyword == 'transect':\n",
        "        img = [img_info for img_info in img_list][0] # Only use the first photo from transect images\n",
        "        cell_col = row_info['transect_img_col']\n",
        "    else:\n",
        "        img = [img_info for img_info in img_list if keyword in img_info['name']][0]\n",
        "        cell_col = row_info[f'CC{keyword}_col']\n",
        "\n",
        "    drive_img_link = f'https://drive.google.com/file/d/{img['id']}/view?usp=sharing'\n",
        "\n",
        "    # Insert each image into the row\n",
        "    cell_location = f'{int_to_letter(cell_col+1)}{row_i+1}'\n",
        "    link_formula = f'=HYPERLINK(\"{drive_img_link}\",\"{img['name']}\")'\n",
        "    worksheet.update(cell_location, [[link_formula]], value_input_option='USER_ENTERED')"
      ],
      "metadata": {
        "id": "A-gy_hFOGjPy"
      },
      "execution_count": null,
      "outputs": []
    },
    {
      "cell_type": "code",
      "source": [
        "# Raw Data Sheet\n",
        "def update_sheet(data_key):\n",
        "    print(\"Reading raw data sheet...\")\n",
        "    if data_key == 'raw_data':\n",
        "        sheet_name = COLLECTION_SHEET_NAME\n",
        "        sheet_url = f'https://docs.google.com/spreadsheets/d/{RAW_DATA_SHEET_ID}/'\n",
        "        CC_imglist = get_img_list(CC_IMG_FOLDER_ID)\n",
        "        transect_imglist = get_img_list(TRANSECT_IMG_FOLDER_ID)\n",
        "    elif data_key == 'data':\n",
        "        sheet_name = CANOPY_SHEET_NAME\n",
        "        # sheet_url = f'https://docs.google.com/spreadsheets/d/{DATA_SHEET_ID}/'\n",
        "        sheet_url = f'https://docs.google.com/spreadsheets/d/{RAW_DATA_SHEET_ID}/'\n",
        "        CC_imglist = get_img_list(COUNTED_CC_IMG_FOLDER_ID)\n",
        "\n",
        "    spreadsheet = gc.open_by_url(sheet_url)\n",
        "    worksheet = spreadsheet.worksheet(sheet_name)\n",
        "    data = worksheet.get_all_values()\n",
        "\n",
        "    # Processing Data\n",
        "    print(\"Processing data...\")\n",
        "    for row_i, row in enumerate(data):\n",
        "        if row_i == 0: # Header row\n",
        "            row_info = {'transect_id_col': row.index('TRANSECT ID'),\n",
        "                        'CCstart_col': row.index('CC Start'),\n",
        "                        'CCend_col': row.index('CC End'),\n",
        "                        'CCtrail_col': row.index('CC Trail'),\n",
        "                        'CCaway_col': row.index('CC Away'),\n",
        "                        }\n",
        "\n",
        "            if data_key == 'raw_data': row_info['transect_img_col'] = row.index('TRANSECT PHOTO')\n",
        "\n",
        "        else:\n",
        "            transect_id = row[row_info['transect_id_col']]\n",
        "            print(transect_id)\n",
        "\n",
        "            # Get images with ID corresponding to transect id\n",
        "            CC_transect_img = [img_info for img_info in CC_imglist if transect_id in img_info['name']]\n",
        "\n",
        "            if len(CC_transect_img) != 4:\n",
        "                print(\"Err: Image missing.\")\n",
        "            else:\n",
        "                add_img_to_drive('start', CC_transect_img, row_i, row_info, worksheet)\n",
        "                add_img_to_drive('end', CC_transect_img, row_i, row_info, worksheet)\n",
        "                add_img_to_drive('trail', CC_transect_img, row_i, row_info, worksheet)\n",
        "                add_img_to_drive('away', CC_transect_img, row_i, row_info, worksheet)\n",
        "\n",
        "            if data_key == 'raw_data':\n",
        "                transect_img = [img_info for img_info in transect_imglist if transect_id in img_info['name']]\n",
        "                if len(transect_img) != 0:\n",
        "                    add_img_to_drive('transect', transect_img, row_i, row_info, worksheet)"
      ],
      "metadata": {
        "id": "OCZtmcKi27mK"
      },
      "execution_count": null,
      "outputs": []
    },
    {
      "cell_type": "markdown",
      "source": [
        "## Main Block"
      ],
      "metadata": {
        "id": "Cg4Uj8tIxPpj"
      }
    },
    {
      "cell_type": "code",
      "source": [
        "update_sheet('raw_data')\n",
        "update_sheet('data')"
      ],
      "metadata": {
        "colab": {
          "base_uri": "https://localhost:8080/"
        },
        "id": "UVeK-7TvxO-U",
        "outputId": "fc82a646-e86c-41c6-fe3c-b106aacbe7e2"
      },
      "execution_count": null,
      "outputs": [
        {
          "output_type": "stream",
          "name": "stdout",
          "text": [
            "Reading raw data sheet...\n",
            "Processing data...\n",
            "BP-R-02\n"
          ]
        },
        {
          "output_type": "stream",
          "name": "stderr",
          "text": [
            "/tmp/ipython-input-1886584482.py:18: DeprecationWarning: The order of arguments in worksheet.update() has changed. Please pass values first and range_name secondor used named arguments (range_name=, values=)\n",
            "  worksheet.update(cell_location, [[link_formula]], value_input_option='USER_ENTERED')\n"
          ]
        },
        {
          "output_type": "stream",
          "name": "stdout",
          "text": [
            "BP-M-04\n",
            "BP-R-03\n",
            "BP-R-04\n",
            "BP-M-02\n",
            "BP-R-05\n",
            "BP-R-06\n",
            "BP-M-01\n",
            "BP-M-05\n",
            "BP-R-01\n",
            "BP-M-03\n",
            "BP-R-07\n",
            "BP-M-06\n",
            "BP-R-08\n",
            "BP-M-07\n",
            "Reading raw data sheet...\n",
            "Processing data...\n",
            "BP-R-02\n",
            "BP-M-04\n",
            "BP-R-03\n",
            "BP-R-04\n",
            "BP-M-02\n",
            "BP-R-05\n",
            "BP-R-06\n",
            "BP-M-01\n",
            "BP-M-05\n",
            "BP-R-01\n",
            "BP-M-03\n",
            "BP-R-07\n",
            "BP-M-06\n",
            "BP-R-08\n",
            "BP-M-07\n"
          ]
        }
      ]
    }
  ]
}